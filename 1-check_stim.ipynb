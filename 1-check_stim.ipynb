{
 "cells": [
  {
   "cell_type": "markdown",
   "metadata": {},
   "source": [
    "# 0. 라이브러리 및 함수 설정"
   ]
  },
  {
   "cell_type": "code",
   "execution_count": 1,
   "metadata": {},
   "outputs": [],
   "source": [
    "import os\n",
    "from os import listdir, walk\n",
    "from os.path import isfile, join\n",
    "import pandas as pd\n",
    "import numpy as np"
   ]
  },
  {
   "cell_type": "code",
   "execution_count": 3,
   "metadata": {},
   "outputs": [],
   "source": [
    "def see_dir(dir_path):\n",
    "    print('Total File sizes in *'+dir_path+'*')\n",
    "    a=0\n",
    "    for f in os.listdir(dir_path):\n",
    "        if 'zip' not in f:\n",
    "            a+=1\n",
    "            print(f.ljust(30) + str(round(os.path.getsize(dir_path + '/' + f) / 1000000, 4)) + 'MB')\n",
    "    print('# of files: ', a)\n",
    "    \n",
    "def see_stim_dir(title, stim=''):\n",
    "    stim_path = title+'/stim/'+stim\n",
    "    see_dir(stim_path)\n",
    "    \n",
    "def make_data_list(title, stim_list, stim_len):\n",
    "    stim_datas = []\n",
    "    for i in range(len(stim_list)):\n",
    "        stim_path = 'stim/'+stim_list[i]+'/'\n",
    "        stim_data = [stim_path+s for s in listdir(title+'/'+stim_path) if isfile(join(title+'/'+stim_path, s))]\n",
    "        stim_data = stim_data[:stim_len]\n",
    "        stim_datas.append(stim_data)\n",
    "    stim_datas = np.array(stim_datas)\n",
    "    return(stim_datas)\n",
    "\n",
    "def make_csv_file(title, header_list, stim_data, save_name):\n",
    "    stim_data = pd.DataFrame(stim_data)\n",
    "    save_as = title+'/files/'+save_name\n",
    "    stim_data.to_csv(save_as, header=header_list, index=False)\n",
    "    print('This file is :', save_as)\n",
    "    print(pd.read_csv(save_as))\n"
   ]
  },
  {
   "cell_type": "markdown",
   "metadata": {},
   "source": [
    "# 1. 실험에 사용되는 stimulus 확인"
   ]
  },
  {
   "cell_type": "markdown",
   "metadata": {},
   "source": [
    "### 1-1. 실험 제목 설정"
   ]
  },
  {
   "cell_type": "code",
   "execution_count": 4,
   "metadata": {},
   "outputs": [],
   "source": [
    "title = 'transparent_block'"
   ]
  },
  {
   "cell_type": "markdown",
   "metadata": {},
   "source": [
    "### 1-2. 실험에 사용되는 stimulus 를 확인합니다. "
   ]
  },
  {
   "cell_type": "code",
   "execution_count": 6,
   "metadata": {},
   "outputs": [
    {
     "name": "stdout",
     "output_type": "stream",
     "text": [
      "Total File sizes in *transparent_block/stim/*\n",
      "face                          0.0047MB\n",
      "scene                         0.0047MB\n",
      "imginfo.txt                   0.0002MB\n",
      "# of files:  3\n"
     ]
    }
   ],
   "source": [
    "see_stim_dir(title)"
   ]
  },
  {
   "cell_type": "markdown",
   "metadata": {},
   "source": [
    "### 1-3. 각각의 stimulus 폴더를 확인합니다. "
   ]
  },
  {
   "cell_type": "code",
   "execution_count": 7,
   "metadata": {},
   "outputs": [
    {
     "name": "stdout",
     "output_type": "stream",
     "text": [
      "Total File sizes in *transparent_block/stim/face*\n",
      "face_141                      0.1384MB\n",
      "face_115                      0.1178MB\n",
      "face_112                      0.1298MB\n",
      "face_124                      0.1397MB\n",
      "face_123                      0.1377MB\n",
      "face_140                      0.1388MB\n",
      "face_122                      0.1466MB\n",
      "face_125                      0.1382MB\n",
      "face_113                      0.1525MB\n",
      "face_114                      0.1639MB\n",
      "face_10                       0.1084MB\n",
      "face_17                       0.1095MB\n",
      "face_28                       0.1507MB\n",
      "face_21                       0.143MB\n",
      "face_26                       0.1264MB\n",
      "face_19                       0.1169MB\n",
      "face_86                       0.1062MB\n",
      "face_72                       0.1372MB\n",
      "face_75                       0.1101MB\n",
      "face_81                       0.1099MB\n",
      "face_88                       0.1096MB\n",
      "face_43                       0.1465MB\n",
      "face_44                       0.148MB\n",
      "face_27                       0.1533MB\n",
      "face_18                       0.1228MB\n",
      "face_20                       0.1046MB\n",
      "face_16                       0.1169MB\n",
      "face_29                       0.1326MB\n",
      "face_11                       0.1039MB\n",
      "face_45                       0.1577MB\n",
      "face_89                       0.1098MB\n",
      "face_42                       0.1451MB\n",
      "face_80                       0.1081MB\n",
      "face_74                       0.0997MB\n",
      "face_73                       0.1123MB\n",
      "face_87                       0.1049MB\n",
      "face_51                       0.1461MB\n",
      "face_3                        0.11MB\n",
      "face_56                       0.1499MB\n",
      "face_4                        0.1089MB\n",
      "face_69                       0.1432MB\n",
      "face_94                       0.1338MB\n",
      "face_60                       0.1478MB\n",
      "face_67                       0.1473MB\n",
      "face_93                       0.1516MB\n",
      "face_58                       0.1564MB\n",
      "face_33                       0.1409MB\n",
      "face_34                       0.1589MB\n",
      "face_92                       0.1169MB\n",
      "face_66                       0.136MB\n",
      "face_59                       0.1295MB\n",
      "face_61                       0.1401MB\n",
      "face_95                       0.1326MB\n",
      "face_57                       0.1407MB\n",
      "face_68                       0.1374MB\n",
      "face_5                        0.1135MB\n",
      "face_50                       0.1471MB\n",
      "face_2                        0.1092MB\n",
      "face_35                       0.1398MB\n",
      "face_32                       0.1465MB\n",
      "face_109                      0.1283MB\n",
      "face_136                      0.1392MB\n",
      "face_131                      0.1302MB\n",
      "face_138                      0.1422MB\n",
      "face_107                      0.1581MB\n",
      "face_100                      0.1373MB\n",
      "face_101                      0.1422MB\n",
      "face_139                      0.1332MB\n",
      "face_106                      0.1317MB\n",
      "face_130                      0.136MB\n",
      "face_108                      0.1443MB\n",
      "face_137                      0.1452MB\n",
      "face_111                      0.1462MB\n",
      "face_116                      0.1353MB\n",
      "face_129                      0.1323MB\n",
      "face_120                      0.1429MB\n",
      "face_127                      0.1366MB\n",
      "face_118                      0.1322MB\n",
      "face_142                      0.1465MB\n",
      "face_126                      0.1352MB\n",
      "face_119                      0.132MB\n",
      "face_121                      0.1379MB\n",
      "face_117                      0.1367MB\n",
      "face_128                      0.1366MB\n",
      "face_110                      0.146MB\n",
      "face_144                      0.1396MB\n",
      "face_143                      0.1406MB\n",
      "face_49                       0.1501MB\n",
      "face_76                       0.1076MB\n",
      "face_82                       0.1071MB\n",
      "face_85                       0.1142MB\n",
      "face_71                       0.1408MB\n",
      "face_78                       0.1076MB\n",
      "face_47                       0.1546MB\n",
      "face_40                       0.145MB\n",
      "face_14                       0.1084MB\n",
      "face_13                       0.1MB\n",
      "face_25                       0.1363MB\n",
      "face_22                       0.1311MB\n",
      "face_41                       0.1327MB\n",
      "face_79                       0.1133MB\n",
      "face_46                       0.1343MB\n",
      "face_70                       0.1406MB\n",
      "face_84                       0.1148MB\n",
      "face_48                       0.1529MB\n",
      "face_83                       0.1189MB\n",
      "face_77                       0.1139MB\n",
      "face_23                       0.1374MB\n",
      "face_24                       0.1363MB\n",
      "face_12                       0.1078MB\n",
      "face_15                       0.1075MB\n",
      "face_37                       0.1884MB\n",
      "face_30                       0.1403MB\n",
      "face_39                       0.1402MB\n",
      "face_55                       0.1399MB\n",
      "face_7                        0.1214MB\n",
      "face_52                       0.1467MB\n",
      "face_99                       0.1524MB\n",
      "face_64                       0.1342MB\n",
      "face_90                       0.1125MB\n",
      "face_9                        0.1046MB\n",
      "face_97                       0.1166MB\n",
      "face_63                       0.1546MB\n",
      "face_38                       0.2395MB\n",
      "face_31                       0.1423MB\n",
      "face_36                       0.1395MB\n",
      "face_62                       0.1525MB\n",
      "face_96                       0.1241MB\n",
      "face_8                        0.101MB\n",
      "face_91                       0.1127MB\n",
      "face_65                       0.1392MB\n",
      "face_53                       0.1369MB\n",
      "face_98                       0.1235MB\n",
      "face_1                        0.1184MB\n",
      "face_54                       0.1477MB\n",
      "face_6                        0.1098MB\n",
      "face_132                      0.137MB\n",
      "face_135                      0.1535MB\n",
      "face_103                      0.1548MB\n",
      "face_104                      0.1384MB\n",
      "face_105                      0.1338MB\n",
      "face_102                      0.1437MB\n",
      "face_134                      0.1392MB\n",
      "face_133                      0.1396MB\n",
      "# of files:  144\n"
     ]
    }
   ],
   "source": [
    "see_stim_dir(title, 'face')"
   ]
  },
  {
   "cell_type": "markdown",
   "metadata": {},
   "source": [
    "# 2. Stimulus 데이터 csv 파일 생성"
   ]
  },
  {
   "cell_type": "markdown",
   "metadata": {},
   "source": [
    "### 2-1. stimulus 파일들을 np.array 데이터로 정렬합니다. "
   ]
  },
  {
   "cell_type": "code",
   "execution_count": 8,
   "metadata": {},
   "outputs": [],
   "source": [
    "stim_data = make_data_list(title, ['face','scene'], 144)"
   ]
  },
  {
   "cell_type": "markdown",
   "metadata": {},
   "source": [
    "### 2-2. 최종 csv 파일 형식에 맞추어 array를 변환합니다. "
   ]
  },
  {
   "cell_type": "code",
   "execution_count": 12,
   "metadata": {},
   "outputs": [],
   "source": [
    "transformed_data = np.transpose(stim_data)\n",
    "#transformed_data = np.ravel(stim_data)"
   ]
  },
  {
   "cell_type": "markdown",
   "metadata": {},
   "source": [
    "### 2-3. csv 파일을 생성합니다. "
   ]
  },
  {
   "cell_type": "code",
   "execution_count": 13,
   "metadata": {},
   "outputs": [
    {
     "name": "stdout",
     "output_type": "stream",
     "text": [
      "This file is : transparent_block/files/imglist.csv\n",
      "             face_image           scene_image\n",
      "0    stim/face/face_141  stim/scene/scene_143\n",
      "1    stim/face/face_115  stim/scene/scene_144\n",
      "2    stim/face/face_112  stim/scene/scene_110\n",
      "3    stim/face/face_124  stim/scene/scene_128\n",
      "4    stim/face/face_123  stim/scene/scene_117\n",
      "..                  ...                   ...\n",
      "139  stim/face/face_104  stim/scene/scene_107\n",
      "140  stim/face/face_105  stim/scene/scene_138\n",
      "141  stim/face/face_102  stim/scene/scene_131\n",
      "142  stim/face/face_134  stim/scene/scene_136\n",
      "143  stim/face/face_133  stim/scene/scene_109\n",
      "\n",
      "[144 rows x 2 columns]\n"
     ]
    }
   ],
   "source": [
    "make_csv_file(title, ['face_image','scene_image'], transformed_data, 'imglist.csv')"
   ]
  },
  {
   "cell_type": "markdown",
   "metadata": {},
   "source": [
    "# 3. Stimulus 순서 csv 파일 생성"
   ]
  },
  {
   "cell_type": "markdown",
   "metadata": {},
   "source": [
    "### 3-1 순서 정보가 들어간 데이터 생성"
   ]
  },
  {
   "cell_type": "code",
   "execution_count": 16,
   "metadata": {},
   "outputs": [
    {
     "name": "stdout",
     "output_type": "stream",
     "text": [
      "['0:12', '12:24', '24:36', '36:48', '48:60', '60:72', '72:84', '84:96', '96:108', '108:120', '120:132', '132:144']\n"
     ]
    }
   ],
   "source": [
    "row_list = []\n",
    "for i in range(12):\n",
    "    \n",
    "    start = str(i*12) \n",
    "    end = str((i+1)*12)\n",
    "    row = start+':'+end\n",
    "    row_list.append(row)\n",
    "print(row_list)"
   ]
  },
  {
   "cell_type": "markdown",
   "metadata": {},
   "source": [
    "### 3-2. csv 파일을 생성합니다. "
   ]
  },
  {
   "cell_type": "code",
   "execution_count": 35,
   "metadata": {},
   "outputs": [
    {
     "name": "stdout",
     "output_type": "stream",
     "text": [
      "This file is : transparent_block/files/rowlist.csv\n",
      "        row\n",
      "0      0:12\n",
      "1     12:24\n",
      "2     24:36\n",
      "3     36:48\n",
      "4     48:60\n",
      "5     60:72\n",
      "6     72:84\n",
      "7     84:96\n",
      "8    96:108\n",
      "9   108:120\n",
      "10  120:132\n",
      "11  132:144\n"
     ]
    }
   ],
   "source": [
    "make_csv_file(title, ['row'], row_list, 'rowlist.csv')"
   ]
  },
  {
   "cell_type": "code",
   "execution_count": null,
   "metadata": {},
   "outputs": [],
   "source": []
  }
 ],
 "metadata": {
  "kernelspec": {
   "display_name": "Python 3",
   "language": "python",
   "name": "python3"
  },
  "language_info": {
   "codemirror_mode": {
    "name": "ipython",
    "version": 3
   },
   "file_extension": ".py",
   "mimetype": "text/x-python",
   "name": "python",
   "nbconvert_exporter": "python",
   "pygments_lexer": "ipython3",
   "version": "3.7.4"
  }
 },
 "nbformat": 4,
 "nbformat_minor": 4
}
